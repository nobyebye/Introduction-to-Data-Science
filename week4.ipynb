{
 "cells": [
  {
   "cell_type": "markdown",
   "metadata": {},
   "source": [
    "# Introduction to Data Science 2025\n",
    "\n",
    "# Week 4"
   ]
  },
  {
   "cell_type": "markdown",
   "metadata": {},
   "source": [
    "In this week's exercise, we look at prompting and zero- and few-shot task settings. Below is a text generation example from https://github.com/TurkuNLP/intro-to-nlp/blob/master/text_generation_pipeline_example.ipynb demonstrating how to load a text generation pipeline with a pre-trained model and generate text with a given prompt. Your task is to load a similar pre-trained generative model and assess whether the model succeeds at a set of tasks in zero-shot, one-shot, and two-shot settings.\n",
    "\n",
    "**Note: Downloading and running the pre-trained model locally may take some time. Alternatively, you can open and run this notebook on [Google Colab](https://colab.research.google.com/), as assumed in the following example.**"
   ]
  },
  {
   "cell_type": "markdown",
   "metadata": {
    "id": "tIQ1s96UCcJW"
   },
   "source": [
    "## Text generation example\n",
    "\n",
    "This is a brief example of how to run text generation with a causal language model and `pipeline`.\n",
    "\n",
    "Install [transformers](https://huggingface.co/docs/transformers/index) python package. This will be used to load the model and tokenizer and to run generation."
   ]
  },
  {
   "cell_type": "code",
   "metadata": {
    "id": "4fUBJmXHCHw-",
    "ExecuteTime": {
     "end_time": "2025-09-28T11:28:42.081135Z",
     "start_time": "2025-09-28T11:28:40.540980Z"
    }
   },
   "source": [
    "!pip install --quiet transformers"
   ],
   "outputs": [
    {
     "name": "stderr",
     "output_type": "stream",
     "text": [
      "\n",
      "[notice] A new release of pip is available: 24.3.1 -> 25.2\n",
      "[notice] To update, run: python.exe -m pip install --upgrade pip\n"
     ]
    }
   ],
   "execution_count": 2
  },
  {
   "cell_type": "markdown",
   "metadata": {
    "id": "5ZRNZgRJCt6Q"
   },
   "source": [
    "Import the `AutoTokenizer`, `AutoModelForCausalLM`, and `pipeline` classes. The first two support loading tokenizers and generative models from the [Hugging Face repository](https://huggingface.co/models), and the last wraps a tokenizer and a model for convenience."
   ]
  },
  {
   "cell_type": "code",
   "metadata": {
    "id": "jwyK005xCFSF",
    "ExecuteTime": {
     "end_time": "2025-09-28T11:28:48.491151Z",
     "start_time": "2025-09-28T11:28:42.084144Z"
    }
   },
   "source": [
    "from transformers import AutoTokenizer, AutoModelForCausalLM, pipeline"
   ],
   "outputs": [
    {
     "name": "stderr",
     "output_type": "stream",
     "text": [
      "D:\\Pycharm\\python\\Lib\\site-packages\\tqdm\\auto.py:21: TqdmWarning: IProgress not found. Please update jupyter and ipywidgets. See https://ipywidgets.readthedocs.io/en/stable/user_install.html\n",
      "  from .autonotebook import tqdm as notebook_tqdm\n",
      "None of PyTorch, TensorFlow >= 2.0, or Flax have been found. Models won't be available and only tokenizers, configuration and file/data utilities can be used.\n",
      "None of PyTorch, TensorFlow >= 2.0, or Flax have been found. Models won't be available and only tokenizers, configuration and file/data utilities can be used.\n"
     ]
    }
   ],
   "execution_count": 3
  },
  {
   "cell_type": "markdown",
   "metadata": {
    "id": "6QJPDe3ZC_sL"
   },
   "source": [
    "Load a generative model and its tokenizer. You can substitute any other generative model name here (e.g. [other TurkuNLP GPT-3 models](https://huggingface.co/models?sort=downloads&search=turkunlp%2Fgpt3)), but note that Colab may have issues running larger models. "
   ]
  },
  {
   "cell_type": "code",
   "metadata": {
    "id": "wqTxn_QaCNjZ",
    "ExecuteTime": {
     "end_time": "2025-09-28T11:28:50.399340Z",
     "start_time": "2025-09-28T11:28:48.495940Z"
    }
   },
   "source": [
    "MODEL_NAME = 'TurkuNLP/gpt3-finnish-large'\n",
    "\n",
    "tokenizer = AutoTokenizer.from_pretrained(MODEL_NAME)\n",
    "model = AutoModelForCausalLM.from_pretrained(MODEL_NAME)"
   ],
   "outputs": [
    {
     "name": "stderr",
     "output_type": "stream",
     "text": [
      "D:\\Pycharm\\python\\Lib\\site-packages\\huggingface_hub\\file_download.py:143: UserWarning: `huggingface_hub` cache-system uses symlinks by default to efficiently store duplicated files but your machine does not support them in C:\\Users\\27436\\.cache\\huggingface\\hub\\models--TurkuNLP--gpt3-finnish-large. Caching files will still work but in a degraded version that might require more space on your disk. This warning can be disabled by setting the `HF_HUB_DISABLE_SYMLINKS_WARNING` environment variable. For more details, see https://huggingface.co/docs/huggingface_hub/how-to-cache#limitations.\n",
      "To support symlinks on Windows, you either need to activate Developer Mode or to run Python as an administrator. In order to activate developer mode, see this article: https://docs.microsoft.com/en-us/windows/apps/get-started/enable-your-device-for-development\n",
      "  warnings.warn(message)\n"
     ]
    },
    {
     "ename": "ImportError",
     "evalue": "\nAutoModelForCausalLM requires the PyTorch library but it was not found in your environment. Check out the instructions on the\ninstallation page: https://pytorch.org/get-started/locally/ and follow the ones that match your environment.\nPlease note that you may need to restart your runtime after installation.\n",
     "output_type": "error",
     "traceback": [
      "\u001B[31m---------------------------------------------------------------------------\u001B[39m",
      "\u001B[31mImportError\u001B[39m                               Traceback (most recent call last)",
      "\u001B[36mCell\u001B[39m\u001B[36m \u001B[39m\u001B[32mIn[4]\u001B[39m\u001B[32m, line 4\u001B[39m\n\u001B[32m      1\u001B[39m MODEL_NAME = \u001B[33m'\u001B[39m\u001B[33mTurkuNLP/gpt3-finnish-large\u001B[39m\u001B[33m'\u001B[39m\n\u001B[32m      3\u001B[39m tokenizer = AutoTokenizer.from_pretrained(MODEL_NAME)\n\u001B[32m----> \u001B[39m\u001B[32m4\u001B[39m model = \u001B[43mAutoModelForCausalLM\u001B[49m\u001B[43m.\u001B[49m\u001B[43mfrom_pretrained\u001B[49m(MODEL_NAME)\n",
      "\u001B[36mFile \u001B[39m\u001B[32mD:\\Pycharm\\python\\Lib\\site-packages\\transformers\\utils\\import_utils.py:2142\u001B[39m, in \u001B[36mDummyObject.__getattribute__\u001B[39m\u001B[34m(cls, key)\u001B[39m\n\u001B[32m   2140\u001B[39m \u001B[38;5;28;01mif\u001B[39;00m (key.startswith(\u001B[33m\"\u001B[39m\u001B[33m_\u001B[39m\u001B[33m\"\u001B[39m) \u001B[38;5;129;01mand\u001B[39;00m key != \u001B[33m\"\u001B[39m\u001B[33m_from_config\u001B[39m\u001B[33m\"\u001B[39m) \u001B[38;5;129;01mor\u001B[39;00m key == \u001B[33m\"\u001B[39m\u001B[33mis_dummy\u001B[39m\u001B[33m\"\u001B[39m \u001B[38;5;129;01mor\u001B[39;00m key == \u001B[33m\"\u001B[39m\u001B[33mmro\u001B[39m\u001B[33m\"\u001B[39m \u001B[38;5;129;01mor\u001B[39;00m key == \u001B[33m\"\u001B[39m\u001B[33mcall\u001B[39m\u001B[33m\"\u001B[39m:\n\u001B[32m   2141\u001B[39m     \u001B[38;5;28;01mreturn\u001B[39;00m \u001B[38;5;28msuper\u001B[39m().\u001B[34m__getattribute__\u001B[39m(key)\n\u001B[32m-> \u001B[39m\u001B[32m2142\u001B[39m \u001B[43mrequires_backends\u001B[49m\u001B[43m(\u001B[49m\u001B[38;5;28;43mcls\u001B[39;49m\u001B[43m,\u001B[49m\u001B[43m \u001B[49m\u001B[38;5;28;43mcls\u001B[39;49m\u001B[43m.\u001B[49m\u001B[43m_backends\u001B[49m\u001B[43m)\u001B[49m\n",
      "\u001B[36mFile \u001B[39m\u001B[32mD:\\Pycharm\\python\\Lib\\site-packages\\transformers\\utils\\import_utils.py:2128\u001B[39m, in \u001B[36mrequires_backends\u001B[39m\u001B[34m(obj, backends)\u001B[39m\n\u001B[32m   2125\u001B[39m         failed.append(msg.format(name))\n\u001B[32m   2127\u001B[39m \u001B[38;5;28;01mif\u001B[39;00m failed:\n\u001B[32m-> \u001B[39m\u001B[32m2128\u001B[39m     \u001B[38;5;28;01mraise\u001B[39;00m \u001B[38;5;167;01mImportError\u001B[39;00m(\u001B[33m\"\u001B[39m\u001B[33m\"\u001B[39m.join(failed))\n",
      "\u001B[31mImportError\u001B[39m: \nAutoModelForCausalLM requires the PyTorch library but it was not found in your environment. Check out the instructions on the\ninstallation page: https://pytorch.org/get-started/locally/ and follow the ones that match your environment.\nPlease note that you may need to restart your runtime after installation.\n"
     ]
    }
   ],
   "execution_count": 4
  },
  {
   "cell_type": "markdown",
   "metadata": {
    "id": "9ADWWb77e1sY"
   },
   "source": [
    "Instantiate a text generation pipeline using the tokenizer and model."
   ]
  },
  {
   "cell_type": "code",
   "execution_count": 22,
   "metadata": {
    "id": "0IIJzNrEe5qx"
   },
   "outputs": [],
   "source": [
    "pipe = pipeline(\n",
    "    'text-generation',\n",
    "    model=model,\n",
    "    tokenizer=tokenizer,\n",
    "    device=model.device\n",
    ")"
   ]
  },
  {
   "cell_type": "markdown",
   "metadata": {
    "id": "eAohNr1ciwaU"
   },
   "source": [
    "We can now call the pipeline with a text prompt; it will take care of tokenizing, encoding, generation, and decoding:"
   ]
  },
  {
   "cell_type": "code",
   "execution_count": 23,
   "metadata": {
    "colab": {
     "base_uri": "https://localhost:8080/"
    },
    "id": "jWcOJkiKi5vr",
    "outputId": "11cb09ab-310d-438e-e372-ef8d7f8f66a2"
   },
   "outputs": [
    {
     "name": "stdout",
     "output_type": "stream",
     "text": [
      "[{'generated_text': 'Terve, miten menee?”\\n”Hyvin, kiitos.”\\n”Kiva kuulla.”\\n”Kuule, minulla on sinulle asiaa.”\\n'}]\n"
     ]
    }
   ],
   "source": [
    "output = pipe('Terve, miten menee?', max_new_tokens=25)\n",
    "\n",
    "print(output)"
   ]
  },
  {
   "cell_type": "markdown",
   "metadata": {
    "id": "SNRMsxXOjSo0"
   },
   "source": [
    "Just print the text"
   ]
  },
  {
   "cell_type": "code",
   "execution_count": 24,
   "metadata": {
    "colab": {
     "base_uri": "https://localhost:8080/"
    },
    "id": "9Op7MJ6XjahG",
    "outputId": "5d9e26dd-3e80-4663-a712-d85093fad073"
   },
   "outputs": [
    {
     "name": "stdout",
     "output_type": "stream",
     "text": [
      "Terve, miten menee?”\n",
      "”Hyvin, kiitos.”\n",
      "”Kiva kuulla.”\n",
      "”Kuule, minulla on sinulle asiaa.”\n",
      "\n"
     ]
    }
   ],
   "source": [
    "print(output[0]['generated_text'])"
   ]
  },
  {
   "cell_type": "markdown",
   "metadata": {
    "id": "YROp3hyikXPO"
   },
   "source": [
    "We can also call the pipeline with any arguments that the model `generate` function supports. For details on text generation using `transformers`, see e.g. [this tutorial](https://huggingface.co/blog/how-to-generate).\n",
    "\n",
    "Example with sampling and a high `temperature` parameter to generate more chaotic output:"
   ]
  },
  {
   "cell_type": "code",
   "execution_count": 26,
   "metadata": {
    "colab": {
     "base_uri": "https://localhost:8080/"
    },
    "id": "22QjXE88jkim",
    "outputId": "372a4fc2-e305-4034-cea3-a52b6103c24f"
   },
   "outputs": [
    {
     "name": "stdout",
     "output_type": "stream",
     "text": [
      "Terve, miten menee? kysyi Heikki yhtäkkiä astuessaan taloon sisään kantaen kahvipöytä-tarvikkeita käsissään sisään tultuaan.\n",
      "(Ryökäle luuli varmasti hänen tulevan meille istumaan)\n",
      "\n",
      "\n"
     ]
    }
   ],
   "source": [
    "output = pipe(\n",
    "    'Terve, miten menee?',\n",
    "    do_sample=True,\n",
    "    temperature=10.0,\n",
    "    max_new_tokens=25\n",
    ")\n",
    "\n",
    "print(output[0]['generated_text'])"
   ]
  },
  {
   "cell_type": "markdown",
   "metadata": {},
   "source": [
    "## Exercise 1\n",
    "\n",
    "Your task is to assess whether a generative model succeeds in the following tasks in zero-shot, one-shot, and two-shot settings:\n",
    "\n",
    "- binary sentiment classification (positive / negative)\n",
    "\n",
    "- person name recognition\n",
    "\n",
    "- two-digit addition (e.g. 11 + 22 = 33)\n",
    "\n",
    "For example, for assessing whether a generative model can name capital cities, we could use the following prompts:\n",
    "\n",
    "- zero-shot:\n",
    "\t>\"\"\"\\\n",
    "\t>Identify the capital cities of countries.\n",
    "\t>\n",
    "\t>Question: What is the capital of Finland?\\\n",
    "\t>Answer:\\\n",
    "\t>\"\"\"\n",
    "- one-shot:\n",
    "\t>\"\"\"\\\n",
    "\t>Identify the capital cities of countries.\n",
    "\t>\n",
    "\t>Question: What is the capital of Sweden?\\\n",
    "\t>Answer: Stockholm\n",
    "\t>\n",
    "\t>Question: What is the capital of Finland?\\\n",
    "\t>Answer:\\\n",
    "\t>\"\"\"\n",
    "- two-shot:\n",
    "\t>\"\"\"\\\n",
    "\t>Identify the capital cities of countries.\n",
    "\t>\n",
    "\t>Question: What is the capital of Sweden?\\\n",
    "\t>Answer: Stockholm\n",
    "\t>\n",
    "\t>Question: What is the capital of Denmark?\\\n",
    "\t>Answer: Copenhagen\n",
    "\t>\n",
    "\t>Question: What is the capital of Finland?\\\n",
    "\t>Answer:\\\n",
    "\t>\"\"\"\n",
    "\n",
    "You can do the tasks either in English or Finnish and use a generative model of your choice from the Hugging Face models repository, for example the following models:\n",
    "\n",
    "- English: `gpt2-large`\n",
    "- Finnish: `TurkuNLP/gpt3-finnish-large`\n",
    "\n",
    "You can either come up with your own instructions for the tasks or use the following:\n",
    "\n",
    "- English:\n",
    "\t- binary sentiment classification: \"Do the following texts express a positive or negative sentiment?\"\n",
    "\t- person name recognition: \"List the person names occurring in the following texts.\"\n",
    "\t- two-digit addition: \"This is a first grade math exam.\"\n",
    "- Finnish:\n",
    "\t- binary sentiment classification: \"Ilmaisevatko seuraavat tekstit positiivista vai negatiivista tunnetta?\"\n",
    "\t- person name recognition: \"Listaa seuraavissa teksteissä mainitut henkilönnimet.\"\n",
    "\t- two-digit addition: \"Tämä on ensimmäisen luokan matematiikan koe.\"\n",
    "\n",
    "Come up with at least two test cases for each of the three tasks, and come up with your own one- and two-shot examples."
   ]
  },
  {
   "cell_type": "code",
   "execution_count": null,
   "metadata": {},
   "outputs": [],
   "source": [
    "# Use this cell for your code\n",
    "from transformers import AutoTokenizer, AutoModelForCausalLM, pipeline\n",
    "\n",
    "# 选择模型（英文任务建议用 gpt2-large；如果做芬兰语，可以用 TurkuNLP/gpt3-finnish-large）\n",
    "MODEL_NAME = \"gpt2-large\"\n",
    "\n",
    "tokenizer = AutoTokenizer.from_pretrained(MODEL_NAME)\n",
    "model = AutoModelForCausalLM.from_pretrained(MODEL_NAME)\n",
    "\n",
    "pipe = pipeline(\n",
    "    \"text-generation\",\n",
    "    model=model,\n",
    "    tokenizer=tokenizer,\n",
    "    device=0 if model.device.type == \"cuda\" else -1  # 自动选择 GPU / CPU\n",
    ")\n",
    "\n",
    "# 通用生成函数\n",
    "def generate(prompt, max_new_tokens=50):\n",
    "    output = pipe(prompt, max_new_tokens=max_new_tokens, do_sample=False)\n",
    "    return output[0]['generated_text']\n",
    "\n",
    "# ------------------------\n",
    "# 1. 情感分类 (Sentiment)\n",
    "# ------------------------\n",
    "sentiment_text = \"I love this movie, it was fantastic!\"\n",
    "\n",
    "zero_shot_prompt = f\"\"\"Do the following texts express a positive or negative sentiment?\n",
    "\n",
    "Text: {sentiment_text}\n",
    "Answer:\"\"\"\n",
    "\n",
    "one_shot_prompt = f\"\"\"Do the following texts express a positive or negative sentiment?\n",
    "\n",
    "Text: The weather is awful today.\n",
    "Answer: negative\n",
    "\n",
    "Text: {sentiment_text}\n",
    "Answer:\"\"\"\n",
    "\n",
    "two_shot_prompt = f\"\"\"Do the following texts express a positive or negative sentiment?\n",
    "\n",
    "Text: The weather is awful today.\n",
    "Answer: negative\n",
    "\n",
    "Text: She is so kind and helpful.\n",
    "Answer: positive\n",
    "\n",
    "Text: {sentiment_text}\n",
    "Answer:\"\"\"\n",
    "\n",
    "print(\"Sentiment Classification\")\n",
    "print(\"Zero-shot:\", generate(zero_shot_prompt))\n",
    "print(\"One-shot:\", generate(one_shot_prompt))\n",
    "print(\"Two-shot:\", generate(two_shot_prompt))\n",
    "print(\"=\"*50)\n",
    "\n",
    "\n",
    "# ------------------------\n",
    "# 2. 人名识别 (NER)\n",
    "# ------------------------\n",
    "ner_text = \"Barack Obama visited Finland.\"\n",
    "\n",
    "zero_shot_prompt = f\"\"\"List the person names occurring in the following texts.\n",
    "\n",
    "Text: {ner_text}\n",
    "Answer:\"\"\"\n",
    "\n",
    "one_shot_prompt = f\"\"\"List the person names occurring in the following texts.\n",
    "\n",
    "Text: Alice and Bob went to the park.\n",
    "Answer: Alice, Bob\n",
    "\n",
    "Text: {ner_text}\n",
    "Answer:\"\"\"\n",
    "\n",
    "two_shot_prompt = f\"\"\"List the person names occurring in the following texts.\n",
    "\n",
    "Text: Alice and Bob went to the park.\n",
    "Answer: Alice, Bob\n",
    "\n",
    "Text: Angela Merkel met Emmanuel Macron.\n",
    "Answer: Angela Merkel, Emmanuel Macron\n",
    "\n",
    "Text: {ner_text}\n",
    "Answer:\"\"\"\n",
    "\n",
    "print(\"Person Name Recognition\")\n",
    "print(\"Zero-shot:\", generate(zero_shot_prompt))\n",
    "print(\"One-shot:\", generate(one_shot_prompt))\n",
    "print(\"Two-shot:\", generate(two_shot_prompt))\n",
    "print(\"=\"*50)\n",
    "\n",
    "\n",
    "# ------------------------\n",
    "# 3. 两位数加法\n",
    "# ------------------------\n",
    "math_text = \"47 + 25 =\"\n",
    "\n",
    "zero_shot_prompt = f\"\"\"This is a first grade math exam.\n",
    "\n",
    "Question: {math_text}\n",
    "Answer:\"\"\"\n",
    "\n",
    "one_shot_prompt = f\"\"\"This is a first grade math exam.\n",
    "\n",
    "Question: 11 + 22 =\n",
    "Answer: 33\n",
    "\n",
    "Question: {math_text}\n",
    "Answer:\"\"\"\n",
    "\n",
    "two_shot_prompt = f\"\"\"This is a first grade math exam.\n",
    "\n",
    "Question: 11 + 22 =\n",
    "Answer: 33\n",
    "\n",
    "Question: 15 + 37 =\n",
    "Answer: 52\n",
    "\n",
    "Question: {math_text}\n",
    "Answer:\"\"\"\n",
    "\n",
    "print(\"Two-digit Addition\")\n",
    "print(\"Zero-shot:\", generate(zero_shot_prompt))\n",
    "print(\"One-shot:\", generate(one_shot_prompt))\n",
    "print(\"Two-shot:\", generate(two_shot_prompt))\n"
   ]
  },
  {
   "cell_type": "markdown",
   "metadata": {},
   "source": [
    "**Submit this exercise by submitting your code and your answers to the above questions as comments on the MOOC platform. You can return this Jupyter notebook (.ipynb) or .py, .R, etc depending on your programming preferences.**"
   ]
  }
 ],
 "metadata": {
  "colab": {
   "authorship_tag": "ABX9TyMPTKW2dgboQJpXpHYIBCHp",
   "include_colab_link": true,
   "provenance": []
  },
  "kernelspec": {
   "display_name": "Python 3 (ipykernel)",
   "name": "python3",
   "language": "python"
  },
  "language_info": {
   "name": "python"
  }
 },
 "nbformat": 4,
 "nbformat_minor": 0
}
